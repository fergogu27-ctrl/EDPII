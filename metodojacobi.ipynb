{
  "nbformat": 4,
  "nbformat_minor": 0,
  "metadata": {
    "colab": {
      "provenance": [],
      "authorship_tag": "ABX9TyNxhszZzfxDz4xLZq77kNHk",
      "include_colab_link": true
    },
    "kernelspec": {
      "name": "python3",
      "display_name": "Python 3"
    },
    "language_info": {
      "name": "python"
    }
  },
  "cells": [
    {
      "cell_type": "markdown",
      "metadata": {
        "id": "view-in-github",
        "colab_type": "text"
      },
      "source": [
        "<a href=\"https://colab.research.google.com/github/fergogu27-ctrl/EDPII/blob/main/untitled4.ipynb\" target=\"_parent\"><img src=\"https://colab.research.google.com/assets/colab-badge.svg\" alt=\"Open In Colab\"/></a>"
      ]
    },
    {
      "cell_type": "code",
      "execution_count": null,
      "metadata": {
        "colab": {
          "base_uri": "https://localhost:8080/"
        },
        "id": "L8mIlB8lV76g",
        "outputId": "c81e7863-2868-462c-ed7d-4e8089f79993"
      },
      "outputs": [
        {
          "output_type": "stream",
          "name": "stdout",
          "text": [
            "Solución aproximada: [0.1945  0.36125 0.41675 0.5835 ]\n",
            "Iteraciones: 32\n"
          ]
        }
      ],
      "source": [
        "import numpy as np\n",
        "\n",
        "def jacobi(A, b, x0=None, tol=1e-10, max_iter=100):\n",
        "    \"\"\"\n",
        "    Método iterativo de Jacobi para resolver sistemas lineales Ax = b.\n",
        "\n",
        "    Parámetros:\n",
        "    A : matriz de coeficientes (numpy.ndarray)\n",
        "    b : vector de términos independientes (numpy.ndarray)\n",
        "    x0 : vector inicial (numpy.ndarray), si es None se usa vector cero\n",
        "    tol : tolerancia para la norma del error\n",
        "    max_iter : número máximo de iteraciones\n",
        "\n",
        "    Retorna:\n",
        "    x : aproximación de la solución\n",
        "    iteraciones : número de iteraciones realizadas\n",
        "    \"\"\"\n",
        "    n = A.shape[0]\n",
        "\n",
        "    if x0 is None:\n",
        "        x0 = np.zeros_like(b, dtype=float)\n",
        "\n",
        "    x = x0.copy()\n",
        "    for k in range(max_iter):\n",
        "        x_new = np.zeros_like(x)\n",
        "\n",
        "        for i in range(n):\n",
        "            s = sum(A[i][j] * x[j] for j in range(n) if j != i)\n",
        "            x_new[i] = (b[i] - s) / A[i][i]\n",
        "\n",
        "        # Checar convergencia\n",
        "        if np.linalg.norm(x_new - x, ord=np.inf) < tol:\n",
        "            return x_new, k+1\n",
        "        x = x_new\n",
        "\n",
        "    return x, max_iter\n",
        "\n",
        "# Ejercicio 1 del problemario\n",
        "A = np.array([[4, -1, -1, 0],\n",
        "              [-1, 4, 0, -1],\n",
        "              [-1, 0, 4, -1],\n",
        "              [0, -1, -1, 4]])\n",
        "\n",
        "b = np.array([0, 0.667, 0.889 ,1.556])\n",
        "\n",
        "x0 = np.zeros_like(b)\n",
        "sol, it = jacobi(A, b, x0, tol=1e-10, max_iter=100)\n",
        "\n",
        "print(\"Solución aproximada:\", sol)\n",
        "print(\"Iteraciones:\", it)\n"
      ]
    }
  ]
}
